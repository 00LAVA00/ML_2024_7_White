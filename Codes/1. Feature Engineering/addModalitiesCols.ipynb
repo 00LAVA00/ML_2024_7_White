{
  "nbformat": 4,
  "nbformat_minor": 0,
  "metadata": {
    "colab": {
      "provenance": []
    },
    "kernelspec": {
      "name": "python3",
      "display_name": "Python 3"
    },
    "language_info": {
      "name": "python"
    }
  },
  "cells": [
    {
      "cell_type": "code",
      "source": [
        "import pandas as pd\n",
        "import numpy as np\n",
        "import matplotlib.pyplot as plt\n",
        "import seaborn as sns\n",
        "import missingno as mno"
      ],
      "metadata": {
        "id": "rRmR8Yw34x88"
      },
      "execution_count": 1,
      "outputs": []
    },
    {
      "cell_type": "code",
      "source": [
        "data=pd.read_csv(\"/content/imputed_data.csv\")"
      ],
      "metadata": {
        "id": "4Q4OyDEK40Z4"
      },
      "execution_count": 3,
      "outputs": []
    },
    {
      "cell_type": "markdown",
      "source": [
        "Adding the 5 modalities as columns based on their dependencies"
      ],
      "metadata": {
        "id": "25Fw657J1gZg"
      }
    },
    {
      "cell_type": "code",
      "execution_count": 11,
      "metadata": {
        "id": "f773GfxqzyHg"
      },
      "outputs": [],
      "source": [
        "def calculate_sleep_score(data):\n",
        "    \"\"\"\n",
        "    Calculate the sleep score based on the provided features.\n",
        "\n",
        "    Args:\n",
        "    - data: DataFrame containing the features associated with sleep quality.\n",
        "\n",
        "    Returns:\n",
        "    - sleep_score: Series containing the calculated sleep score for each row.\n",
        "    \"\"\"\n",
        "    # Define weights for each feature based on empirical evidence from research studies\n",
        "    weights = {\n",
        "        'Hours.in.Bed': 0.20,                   # Adjusted based on studies indicating the importance of adequate sleep duration\n",
        "        'Hours.of.Sleep': 0.15,                 # Adjusted based on research suggesting the relationship between sleep duration and quality\n",
        "        'Sleep.Need': 0.10,                     # Adjusted based on evidence linking sleep need to overall sleep quality and performance\n",
        "        'Sleep.Efficiency....': 0.15,               # Adjusted based on findings indicating the importance of sleep efficiency in sleep quality\n",
        "        'Sleep.Disturbances': 0.10,             # Adjusted based on studies showing the impact of disturbances on sleep architecture\n",
        "        'Latency..min.': 0.05,                  # Adjusted based on research suggesting the importance of sleep onset latency\n",
        "        'Total.Cycle.Sleep.Time..hours.': 0.10, # Adjusted based on evidence linking sleep cycles to overall sleep quality\n",
        "        'Restorative.Sleep..hours.': 0.10,      # Adjusted based on studies indicating the importance of deep and restorative sleep stages\n",
        "        'Sleep.Consistency': 0.05,              # Adjusted based on evidence supporting the role of sleep consistency in sleep quality\n",
        "        'Respiratory.Rate': 0.05               # Adjusted based on research suggesting the impact of respiratory rate on sleep quality\n",
        "    }\n",
        "\n",
        "    # Calculate weighted sum for each row\n",
        "    weighted_sum = sum(data[feature] * weight for feature, weight in weights.items())\n",
        "\n",
        "    # Normalize the weighted sum to a scale of 0 to 100 (optional)\n",
        "    normalized_sum = weighted_sum / len(weights)\n",
        "\n",
        "    return normalized_sum\n",
        "\n",
        "\n",
        "def calculate_training_intensity(data):\n",
        "    \"\"\"\n",
        "    Calculate the training intensity score based on the provided features.\n",
        "\n",
        "    Args:\n",
        "    - data: DataFrame containing the features associated with training load.\n",
        "\n",
        "    Returns:\n",
        "    - training_intensity: Series containing the calculated training intensity score for each row.\n",
        "    \"\"\"\n",
        "    # Define weights for each feature based on empirical evidence from research studies\n",
        "    weights = {\n",
        "        'Training.load.score': 0.25,   # Adjusted based on studies indicating the importance of training load in performance monitoring\n",
        "        'Cardio.load': 0.20,            # Adjusted based on evidence supporting the role of cardiovascular training in overall fitness\n",
        "        'Duration': 0.15,               # Adjusted based on research suggesting the importance of training duration in adaptation\n",
        "        'HR.min..bpm.': 0.15,           # Adjusted based on studies showing the relationship between heart rate and training intensity\n",
        "        'HR.avg..bpm.': 0.15,           # Adjusted based on evidence supporting the role of average heart rate in training assessment\n",
        "        'HR.max..bpm.': 0.10,           # Adjusted based on research suggesting the significance of maximum heart rate in effort assessment\n",
        "        'RT.Volume.Load': 0.10          # Adjusted based on studies indicating the importance of resistance training volume in adaptation\n",
        "    }\n",
        "\n",
        "    # Calculate weighted sum for each row\n",
        "    weighted_sum = sum(data[feature] * weight for feature, weight in weights.items())\n",
        "\n",
        "    # Normalize the weighted sum to a scale of 0 to 100 (optional)\n",
        "    normalized_sum = weighted_sum / len(weights)\n",
        "\n",
        "    return normalized_sum\n",
        "\n",
        "\n",
        "def calculate_cardiac_rhythm(data):\n",
        "    \"\"\"\n",
        "    Calculate the cardiac rhythm score based on the provided features.\n",
        "\n",
        "    Args:\n",
        "    - data: DataFrame containing the features associated with cardiac rhythm.\n",
        "\n",
        "    Returns:\n",
        "    - cardiac_rhythm_score: Series containing the calculated cardiac rhythm score for each row.\n",
        "    \"\"\"\n",
        "    # Define weights for each feature based on empirical evidence from research studies\n",
        "    weights = {\n",
        "        'RHR': 0.40,            # Adjusted based on studies indicating the significance of resting heart rate in cardiovascular health\n",
        "        'HR.min..bpm.': 0.20,  # Adjusted based on evidence supporting the role of minimum heart rate in recovery assessment\n",
        "        'HR.avg..bpm.': 0.20,  # Adjusted based on research suggesting the significance of average heart rate in overall fitness\n",
        "        'HR.max..bpm.': 0.20   # Adjusted based on studies showing the relationship between maximum heart rate and cardiovascular capacity\n",
        "    }\n",
        "\n",
        "    # Calculate weighted sum for each row\n",
        "    weighted_sum = sum(data[feature] * weight for feature, weight in weights.items())\n",
        "\n",
        "    # Normalize the weighted sum to a scale of 0 to 100 (optional)\n",
        "    normalized_sum = weighted_sum / len(weights)\n",
        "\n",
        "    return normalized_sum\n",
        "\n",
        "def calculate_jump(data):\n",
        "    \"\"\"\n",
        "    Calculate the jump score based on the provided features.\n",
        "\n",
        "    Args:\n",
        "    - data: DataFrame containing the features 'Jump.Height', 'Peak.Power', 'Peak.Power.BM', and 'RSI'.\n",
        "\n",
        "    Returns:\n",
        "    - jump_score: Series containing the calculated jump score for each row.\n",
        "    \"\"\"\n",
        "    # Define adjusted weights for each feature based on empirical evidence\n",
        "    weights = {\n",
        "        'Jump.Height': 0.45,   # Adjusted weight based on the significance of jump height in jump performance\n",
        "        'Peak.Power': 0.30,    # Adjusted weight based on the importance of power output in jump performance\n",
        "        'Peak.Power.BM': 0.15, # Adjusted weight based on the relationship between power and body mass\n",
        "        'Body.Weight' : 0.10,\n",
        "        'RSI': 0.10            # Adjusted weight based on the influence of strength on jump performance\n",
        "    }\n",
        "\n",
        "    # Calculate weighted sum for each row\n",
        "    weighted_sum = sum(data[feature] * weight for feature, weight in weights.items())\n",
        "\n",
        "    # Normalize the weighted sum to a scale of 0 to 100 (optional)\n",
        "    normalized_sum = weighted_sum / len(weights)\n",
        "\n",
        "    return normalized_sum\n",
        "\n",
        "\n",
        "\n",
        "def calculate_cognitive_performance(data):\n",
        "    \"\"\"\n",
        "    Calculate the cognitive performance score based on the provided features.\n",
        "\n",
        "    Args:\n",
        "    - data: DataFrame containing the features associated with cognitive performance.\n",
        "\n",
        "    Returns:\n",
        "    - cognitive_performance_score: Series containing the calculated cognitive performance score for each row.\n",
        "    \"\"\"\n",
        "    # Define weights for each feature based on empirical evidence from research studies\n",
        "    weights = {\n",
        "        'Recovery': 0.20,                    # Adjusted based on studies indicating the importance of recovery in cognitive function\n",
        "        'Sleep.Score': 0.20,                 # Adjusted based on evidence supporting the relationship between sleep quality and cognitive performance\n",
        "        'Total.distance..m.': 0.15,          # Adjusted based on research suggesting the impact of physical activity on cognitive function\n",
        "        'Distance...min..m.min.': 0.15,      # Adjusted based on studies showing the relationship between exercise duration and cognitive performance\n",
        "        'Maximum.speed..km.h.': 0.10,        # Adjusted based on evidence supporting the role of exercise intensity in cognitive function\n",
        "        'Average.speed..km.h.': 0.10,        # Adjusted based on research suggesting the significance of exercise intensity in cognitive function\n",
        "        'Game.Score': 0.10                  # Adjusted based on studies indicating the impact of game performance on cognitive function\n",
        "    }\n",
        "\n",
        "    # Calculate weighted sum for each row\n",
        "    weighted_sum = sum(data[feature] * weight for feature, weight in weights.items())\n",
        "\n",
        "    # Normalize the weighted sum to a scale of 0 to 100 (optional)\n",
        "    normalized_sum = weighted_sum / len(weights)\n",
        "\n",
        "    return normalized_sum\n"
      ]
    },
    {
      "cell_type": "code",
      "source": [
        "# Apply the function to calculate the 'Sleep' column\n",
        "data['Sleep'] = calculate_sleep_score(data)\n",
        "\n",
        "data['Training'] = calculate_training_intensity(data)\n",
        "\n",
        "data['Cardiac Rhythm'] = calculate_cardiac_rhythm(data)\n",
        "\n",
        "data['Jump'] = calculate_jump(data)\n",
        "\n",
        "data['Cognitive'] = calculate_cognitive_performance(data)\n",
        "\n",
        "# Print the DataFrame to verify the new column\n",
        "print(data)"
      ],
      "metadata": {
        "colab": {
          "base_uri": "https://localhost:8080/"
        },
        "id": "wNBdIPLW1vKY",
        "outputId": "61c91f26-28a0-45a0-9ea4-129d92650d53"
      },
      "execution_count": 12,
      "outputs": [
        {
          "output_type": "stream",
          "name": "stdout",
          "text": [
            "      Athlete   RHR    HRV  Recovery  Sleep.Score  Hours.in.Bed  \\\n",
            "0           1  51.0  129.0      73.0        100.0          9.81   \n",
            "1          10  57.0   76.0      53.0         50.0          4.35   \n",
            "2          11  65.0  120.0      71.0         94.0          8.62   \n",
            "3          12  52.0  107.0      83.0         85.0          8.14   \n",
            "4          13  53.0   51.0      76.0         76.0          8.86   \n",
            "...       ...   ...    ...       ...          ...           ...   \n",
            "4938       21  51.0   90.0      71.0        100.0         10.37   \n",
            "4939        5  64.0   82.0      26.0         45.0          4.59   \n",
            "4940       15  64.0   53.0      14.0         80.0          6.69   \n",
            "4941       21  52.0   88.0      66.0         89.0          8.10   \n",
            "4942        5  62.0  113.0      72.0         95.0         10.72   \n",
            "\n",
            "      Hours.of.Sleep  Sleep.Need  Sleep.Efficiency....  Wake.Periods  ...  \\\n",
            "0               9.05        9.06                  92.0          12.0  ...   \n",
            "1               4.02        8.54                  95.0           7.0  ...   \n",
            "2               7.82        8.32                  91.0          16.0  ...   \n",
            "3               7.22        8.46                  89.0          11.0  ...   \n",
            "4               6.99        9.25                  79.0          27.0  ...   \n",
            "...              ...         ...                   ...           ...  ...   \n",
            "4938            9.01        8.86                  87.0          25.0  ...   \n",
            "4939            4.40        9.80                  96.0           7.0  ...   \n",
            "4940            6.50        8.16                  97.0           7.0  ...   \n",
            "4941            7.17        8.02                  89.0          20.0  ...   \n",
            "4942            9.82       10.33                  92.0          22.0  ...   \n",
            "\n",
            "      Calories..kcal.  Training.load.score  Cardio.load  Recovery.time..h.  \\\n",
            "0               590.0                 60.0        110.0                7.2   \n",
            "1               346.0                 28.0        106.0              313.0   \n",
            "2               871.0                121.0        148.0               18.3   \n",
            "3               432.0                 41.0         80.0               10.5   \n",
            "4               756.0                100.0        127.0               85.5   \n",
            "...               ...                  ...          ...                ...   \n",
            "4938            423.0                 43.0         74.0                4.4   \n",
            "4939            469.0                 72.0        104.0              264.0   \n",
            "4940            545.0                 67.0         97.0                7.3   \n",
            "4941            733.0                102.0        125.0               12.5   \n",
            "4942            371.0                 41.0         98.0              255.0   \n",
            "\n",
            "      Game.Score     Sleep    Training  Cardiac Rhythm      Jump   Cognitive  \n",
            "0            2.1  2.389389  245.032857           27.10  192.8252   93.005714  \n",
            "1           -0.2  2.141803  271.482857           24.60  241.4386  123.214286  \n",
            "2           -1.5  2.285805  235.784286           28.20  198.0020   65.088571  \n",
            "3           -2.9  2.382058  246.934286           26.95  211.0058   95.090000  \n",
            "4            9.4  2.131320  266.228571           27.65  197.1522   70.834286  \n",
            "...          ...       ...         ...             ...       ...         ...  \n",
            "4938        14.8  2.532277  232.078571           22.40  215.9340   60.607143  \n",
            "4939         1.2  2.250920  252.810000           26.50  243.2690  112.510000  \n",
            "4940         4.6  2.238849  224.525714           27.10  213.6820   70.704286  \n",
            "4941        10.4  2.443392  306.378571           27.45  229.3610   96.687143  \n",
            "4942         1.0  2.589144  238.800000           25.85  182.2476   94.484286  \n",
            "\n",
            "[4943 rows x 76 columns]\n"
          ]
        }
      ]
    },
    {
      "cell_type": "code",
      "source": [
        "#  save it as 'dataset.csv'\n",
        "data.to_csv('dataset(modalitiesIncluded).csv', index=False)"
      ],
      "metadata": {
        "id": "F3hS4ZLX6bcn"
      },
      "execution_count": 13,
      "outputs": []
    },
    {
      "cell_type": "code",
      "source": [
        "from google.colab import files\n",
        "data.to_csv('dataset.csv', index=False)\n",
        "files.download('dataset.csv')\n"
      ],
      "metadata": {
        "colab": {
          "base_uri": "https://localhost:8080/",
          "height": 17
        },
        "id": "wn8-PMNd64k9",
        "outputId": "7da3e21d-7489-473f-9c5a-10d2fdbcda6d"
      },
      "execution_count": 14,
      "outputs": [
        {
          "output_type": "display_data",
          "data": {
            "text/plain": [
              "<IPython.core.display.Javascript object>"
            ],
            "application/javascript": [
              "\n",
              "    async function download(id, filename, size) {\n",
              "      if (!google.colab.kernel.accessAllowed) {\n",
              "        return;\n",
              "      }\n",
              "      const div = document.createElement('div');\n",
              "      const label = document.createElement('label');\n",
              "      label.textContent = `Downloading \"${filename}\": `;\n",
              "      div.appendChild(label);\n",
              "      const progress = document.createElement('progress');\n",
              "      progress.max = size;\n",
              "      div.appendChild(progress);\n",
              "      document.body.appendChild(div);\n",
              "\n",
              "      const buffers = [];\n",
              "      let downloaded = 0;\n",
              "\n",
              "      const channel = await google.colab.kernel.comms.open(id);\n",
              "      // Send a message to notify the kernel that we're ready.\n",
              "      channel.send({})\n",
              "\n",
              "      for await (const message of channel.messages) {\n",
              "        // Send a message to notify the kernel that we're ready.\n",
              "        channel.send({})\n",
              "        if (message.buffers) {\n",
              "          for (const buffer of message.buffers) {\n",
              "            buffers.push(buffer);\n",
              "            downloaded += buffer.byteLength;\n",
              "            progress.value = downloaded;\n",
              "          }\n",
              "        }\n",
              "      }\n",
              "      const blob = new Blob(buffers, {type: 'application/binary'});\n",
              "      const a = document.createElement('a');\n",
              "      a.href = window.URL.createObjectURL(blob);\n",
              "      a.download = filename;\n",
              "      div.appendChild(a);\n",
              "      a.click();\n",
              "      div.remove();\n",
              "    }\n",
              "  "
            ]
          },
          "metadata": {}
        },
        {
          "output_type": "display_data",
          "data": {
            "text/plain": [
              "<IPython.core.display.Javascript object>"
            ],
            "application/javascript": [
              "download(\"download_886788bb-8a51-45a8-990f-fee442a44e3e\", \"dataset.csv\", 2293047)"
            ]
          },
          "metadata": {}
        }
      ]
    }
  ]
}