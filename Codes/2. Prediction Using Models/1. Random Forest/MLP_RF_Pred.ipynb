{
  "nbformat": 4,
  "nbformat_minor": 0,
  "metadata": {
    "colab": {
      "provenance": []
    },
    "kernelspec": {
      "name": "python3",
      "display_name": "Python 3"
    },
    "language_info": {
      "name": "python"
    }
  },
  "cells": [
    {
      "cell_type": "code",
      "source": [
        "import pandas as pd\n",
        "import numpy as np\n",
        "from sklearn.model_selection import train_test_split\n",
        "from sklearn.ensemble import RandomForestRegressor\n",
        "from sklearn.metrics import mean_squared_error, mean_absolute_error, r2_score"
      ],
      "metadata": {
        "id": "8JjUG5tm6WLP"
      },
      "execution_count": null,
      "outputs": []
    },
    {
      "cell_type": "markdown",
      "source": [
        "A. Prediction For \"Jump\""
      ],
      "metadata": {
        "id": "nDx320C16NlS"
      }
    },
    {
      "cell_type": "code",
      "execution_count": null,
      "metadata": {
        "colab": {
          "base_uri": "https://localhost:8080/"
        },
        "id": "kxcU6jf259-w",
        "outputId": "84edef9c-078f-400a-8035-dd6ef7fa4486"
      },
      "outputs": [
        {
          "output_type": "stream",
          "name": "stdout",
          "text": [
            "Mean Squared Error: 0.028725732204984478\n",
            "Mean Absolute Error: 0.1080635581395507\n",
            "R-Squared Score: 0.9999605012915698\n"
          ]
        }
      ],
      "source": [
        "# Load dataset\n",
        "data = pd.read_csv('/content/modified_dataset.csv')\n",
        "\n",
        "# Convert dates column to DateTime with correct format\n",
        "data['Date'] = pd.to_datetime(data['Date'], format='%d-%m-%Y')\n",
        "\n",
        "# Define the athlete ID\n",
        "athlete_id = 21  # Replace 123 with the specific athlete ID you want to analyze\n",
        "\n",
        "\n",
        "\n",
        "\n",
        "'''\n",
        "# Trials 01\n",
        "\n",
        "# Filter dataset for the specific athlete ID\n",
        "athlete_data = data[data['Athlete'] == athlete_id]\n",
        "\n",
        "# Split athlete's data into training and testing based on year\n",
        "train_data = athlete_data[athlete_data['Date'].dt.year == 2021]\n",
        "test_data = athlete_data[athlete_data['Date'].dt.year == 2022]\n",
        "'''\n",
        "\n",
        "\n",
        "\n",
        "# Filter dataset for the specific athlete ID for testing\n",
        "test_data = data[(data['Athlete'] == athlete_id) & (data['Date'].dt.year == 2023)]\n",
        "\n",
        "# Filter dataset for all athletes for training for the year 2021 [edited: and year 2022]\n",
        "#train_data = data[data['Date'].dt.year == 2021]\n",
        "train_data = data[(data['Date'].dt.year == 2021) | (data['Date'].dt.year == 2022)]\n",
        "\n",
        "\n",
        "\n",
        "# Check if there are samples available for training\n",
        "if not train_data.empty:\n",
        "    # Prepare features and labels for training set\n",
        "    X_train = train_data.drop(['Jump', 'Date', 'Athlete'], axis=1)\n",
        "    y_train = train_data['Jump']\n",
        "\n",
        "    # Prepare features and labels for testing set\n",
        "    X_test = test_data.drop(['Jump', 'Date', 'Athlete'], axis=1)\n",
        "    y_test = test_data['Jump']\n",
        "\n",
        "    # Initialize Random Forest regressor\n",
        "    regressor = RandomForestRegressor()\n",
        "\n",
        "    # Train the regressor\n",
        "    regressor.fit(X_train, y_train)\n",
        "\n",
        "    # Predict on test set\n",
        "    y_pred = regressor.predict(X_test)\n",
        "\n",
        "    # Evaluate mean squared error\n",
        "    mse = mean_squared_error(y_test, y_pred)\n",
        "    print(\"Mean Squared Error:\", mse)\n",
        "\n",
        "    # Evaluate mean absolute error\n",
        "    mae = mean_absolute_error(y_test, y_pred)\n",
        "    print(\"Mean Absolute Error:\", mae)\n",
        "\n",
        "    # Evaluate R-squared Score\n",
        "    r2 = r2_score(y_test, y_pred)\n",
        "    print(\"R-Squared Score:\", r2)\n",
        "\n",
        "else:\n",
        "    print(\"No data available for training for athlete\", athlete_id)\n"
      ]
    },
    {
      "cell_type": "code",
      "source": [
        "import matplotlib.pyplot as plt"
      ],
      "metadata": {
        "id": "YgkT3-W76qPI"
      },
      "execution_count": null,
      "outputs": []
    },
    {
      "cell_type": "code",
      "source": [
        "plt.figure(figsize=(10, 6))  # Increase figure size\n",
        "plt.plot(y_test.reset_index(drop=True), color='blue', label='Actual', marker='o', markersize=8)  # Increase marker size\n",
        "plt.plot(y_pred, color='red', label='Predicted', linestyle='--', linewidth=2)  # Increase line width\n",
        "plt.xlabel('Sample', fontsize=14)  # Increase font size\n",
        "plt.ylabel('Jump', fontsize=14)  # Increase font size\n",
        "plt.title('Actual vs Predicted Values', fontsize=16)  # Increase font size\n",
        "plt.legend()\n",
        "plt.grid(True)  # Add gridlines\n",
        "plt.show()"
      ],
      "metadata": {
        "id": "GtsMibrX6vep"
      },
      "execution_count": null,
      "outputs": []
    },
    {
      "cell_type": "code",
      "source": [
        "bar_width = 0.35\n",
        "index = np.arange(len(y_test))\n",
        "plt.figure(figsize=(10, 6))\n",
        "plt.bar(index, y_test, bar_width, color='blue', label='Actual')\n",
        "plt.bar(index + bar_width, y_pred, bar_width, color='red', label='Predicted')\n",
        "plt.xlabel('Sample', fontsize=14)\n",
        "plt.ylabel('Jump', fontsize=14)\n",
        "plt.title('Actual vs Predicted Values (Bar Plot)', fontsize=16)\n",
        "plt.xticks(index + bar_width / 2, index)\n",
        "plt.legend()\n",
        "plt.show()"
      ],
      "metadata": {
        "id": "iJS6kqJv7X9B"
      },
      "execution_count": null,
      "outputs": []
    },
    {
      "cell_type": "markdown",
      "source": [
        "B. Prediction For Sleep"
      ],
      "metadata": {
        "id": "2Gv89IDQ7Y3u"
      }
    },
    {
      "cell_type": "code",
      "source": [
        "# Load dataset\n",
        "data = pd.read_csv('/content/modified_dataset.csv')\n",
        "\n",
        "# Convert dates column to DateTime with correct format\n",
        "data['Date'] = pd.to_datetime(data['Date'], format='%d-%m-%Y')\n",
        "\n",
        "# Define the athlete ID\n",
        "athlete_id = 21  # Replace 123 with the specific athlete ID you want to analyze\n",
        "\n",
        "\n",
        "\n",
        "\n",
        "'''\n",
        "# Trials 01\n",
        "\n",
        "# Filter dataset for the specific athlete ID\n",
        "athlete_data = data[data['Athlete'] == athlete_id]\n",
        "\n",
        "# Split athlete's data into training and testing based on year\n",
        "train_data = athlete_data[athlete_data['Date'].dt.year == 2021]\n",
        "test_data = athlete_data[athlete_data['Date'].dt.year == 2022]\n",
        "'''\n",
        "\n",
        "\n",
        "# Trials 02\n",
        "# Filter dataset for the specific athlete ID for testing\n",
        "test_data = data[(data['Athlete'] == athlete_id) & (data['Date'].dt.year == 2023)]\n",
        "\n",
        "# Filter dataset for all athletes for training for the year 2021 [edited: and year 2022]\n",
        "#train_data = data[data['Date'].dt.year == 2021]\n",
        "train_data = data[(data['Date'].dt.year == 2021) | (data['Date'].dt.year == 2022)]\n",
        "\n",
        "\n",
        "\n",
        "# Check if there are samples available for training\n",
        "if not train_data.empty:\n",
        "    # Prepare features and labels for training set\n",
        "    X_train = train_data.drop(['Sleep', 'Date', 'Athlete'], axis=1)\n",
        "    y_train = train_data['Sleep']\n",
        "\n",
        "    # Prepare features and labels for testing set\n",
        "    X_test = test_data.drop(['Sleep', 'Date', 'Athlete'], axis=1)\n",
        "    y_test = test_data['Sleep']\n",
        "\n",
        "    # Initialize Random Forest regressor\n",
        "    regressor = RandomForestRegressor()\n",
        "\n",
        "    # Train the regressor\n",
        "    regressor.fit(X_train, y_train)\n",
        "\n",
        "    # Predict on test set\n",
        "    y_pred = regressor.predict(X_test)\n",
        "\n",
        "    # Evaluate mean squared error\n",
        "    mse = mean_squared_error(y_test, y_pred)\n",
        "    print(\"Mean Squared Error:\", mse)\n",
        "\n",
        "    # Evaluate mean absolute error\n",
        "    mae = mean_absolute_error(y_test, y_pred)\n",
        "    print(\"Mean Absolute Error:\", mae)\n",
        "\n",
        "    # Evaluate R-squared Score\n",
        "    r2 = r2_score(y_test, y_pred)\n",
        "    print(\"R-Squared Score:\", r2)\n",
        "\n",
        "else:\n",
        "    print(\"No data available for training for athlete\", athlete_id)\n"
      ],
      "metadata": {
        "colab": {
          "base_uri": "https://localhost:8080/"
        },
        "id": "PlBGDG9e7cvO",
        "outputId": "e0e95eaa-93d6-46e3-b442-4225e721ac3c"
      },
      "execution_count": null,
      "outputs": [
        {
          "output_type": "stream",
          "name": "stdout",
          "text": [
            "Mean Squared Error: 0.0013844637124469437\n",
            "Mean Absolute Error: 0.02954517087209305\n",
            "R-Squared Score: 0.9125737152346292\n"
          ]
        }
      ]
    },
    {
      "cell_type": "code",
      "source": [
        "# Load dataset\n",
        "data = pd.read_csv('/content/modified_dataset.csv')\n",
        "\n",
        "# Convert dates column to DateTime with correct format\n",
        "data['Date'] = pd.to_datetime(data['Date'], format='%d-%m-%Y')\n",
        "\n",
        "# Define the athlete ID\n",
        "athlete_id = 21  # Replace 123 with the specific athlete ID you want to analyze\n",
        "\n",
        "\n",
        "\n",
        "\n",
        "'''\n",
        "# Trials 01\n",
        "\n",
        "# Filter dataset for the specific athlete ID\n",
        "athlete_data = data[data['Athlete'] == athlete_id]\n",
        "\n",
        "# Split athlete's data into training and testing based on year\n",
        "train_data = athlete_data[athlete_data['Date'].dt.year == 2021]\n",
        "test_data = athlete_data[athlete_data['Date'].dt.year == 2022]\n",
        "'''\n",
        "\n",
        "\n",
        "# Trials 02\n",
        "# Filter dataset for the specific athlete ID for testing\n",
        "test_data = data[(data['Athlete'] == athlete_id) & (data['Date'].dt.year == 2023)]\n",
        "\n",
        "# Filter dataset for all athletes for training for the year 2021 [edited: and year 2022]\n",
        "#train_data = data[data['Date'].dt.year == 2021]\n",
        "train_data = data[(data['Date'].dt.year == 2021) | (data['Date'].dt.year == 2022)]\n",
        "\n",
        "\n",
        "\n",
        "# Check if there are samples available for training\n",
        "if not train_data.empty:\n",
        "    # Prepare features and labels for training set\n",
        "    X_train = train_data.drop(['Training', 'Date', 'Athlete'], axis=1)\n",
        "    y_train = train_data['Training']\n",
        "\n",
        "    # Prepare features and labels for testing set\n",
        "    X_test = test_data.drop(['Training', 'Date', 'Athlete'], axis=1)\n",
        "    y_test = test_data['Training']\n",
        "\n",
        "    # Initialize Random Forest regressor\n",
        "    regressor = RandomForestRegressor()\n",
        "\n",
        "    # Train the regressor\n",
        "    regressor.fit(X_train, y_train)\n",
        "\n",
        "    # Predict on test set\n",
        "    y_pred = regressor.predict(X_test)\n",
        "\n",
        "    # Evaluate mean squared error\n",
        "    mse = mean_squared_error(y_test, y_pred)\n",
        "    print(\"Mean Squared Error:\", mse)\n",
        "\n",
        "    # Evaluate mean absolute error\n",
        "    mae = mean_absolute_error(y_test, y_pred)\n",
        "    print(\"Mean Absolute Error:\", mae)\n",
        "\n",
        "    # Evaluate R-squared Score\n",
        "    r2 = r2_score(y_test, y_pred)\n",
        "    print(\"R-Squared Score:\", r2)\n",
        "\n",
        "else:\n",
        "    print(\"No data available for training for athlete\", athlete_id)\n"
      ],
      "metadata": {
        "colab": {
          "base_uri": "https://localhost:8080/"
        },
        "id": "1CPdhXYBVy7S",
        "outputId": "494883f1-a021-4c09-e43a-e67e74673f39"
      },
      "execution_count": null,
      "outputs": [
        {
          "output_type": "stream",
          "name": "stdout",
          "text": [
            "Mean Squared Error: 2.005810658099113\n",
            "Mean Absolute Error: 1.1652828903654378\n",
            "R-Squared Score: 0.9980796675881181\n"
          ]
        }
      ]
    },
    {
      "cell_type": "code",
      "source": [
        "# Load dataset\n",
        "data = pd.read_csv('/content/modified_dataset.csv')\n",
        "\n",
        "# Convert dates column to DateTime with correct format\n",
        "data['Date'] = pd.to_datetime(data['Date'], format='%d-%m-%Y')\n",
        "\n",
        "# Define the athlete ID\n",
        "athlete_id = 21  # Replace 123 with the specific athlete ID you want to analyze\n",
        "\n",
        "\n",
        "\n",
        "\n",
        "'''\n",
        "# Trials 01\n",
        "\n",
        "# Filter dataset for the specific athlete ID\n",
        "athlete_data = data[data['Athlete'] == athlete_id]\n",
        "\n",
        "# Split athlete's data into training and testing based on year\n",
        "train_data = athlete_data[athlete_data['Date'].dt.year == 2021]\n",
        "test_data = athlete_data[athlete_data['Date'].dt.year == 2022]\n",
        "'''\n",
        "\n",
        "\n",
        "# Trials 02\n",
        "# Filter dataset for the specific athlete ID for testing\n",
        "test_data = data[(data['Athlete'] == athlete_id) & (data['Date'].dt.year == 2023)]\n",
        "\n",
        "# Filter dataset for all athletes for training for the year 2021 [edited: and year 2022]\n",
        "#train_data = data[data['Date'].dt.year == 2021]\n",
        "train_data = data[(data['Date'].dt.year == 2021) | (data['Date'].dt.year == 2022)]\n",
        "\n",
        "\n",
        "\n",
        "# Check if there are samples available for training\n",
        "if not train_data.empty:\n",
        "    # Prepare features and labels for training set\n",
        "    X_train = train_data.drop(['Cardiac Rhythm', 'Date', 'Athlete'], axis=1)\n",
        "    y_train = train_data['Cardiac Rhythm']\n",
        "\n",
        "    # Prepare features and labels for testing set\n",
        "    X_test = test_data.drop(['Cardiac Rhythm', 'Date', 'Athlete'], axis=1)\n",
        "    y_test = test_data['Cardiac Rhythm']\n",
        "\n",
        "    # Initialize Random Forest regressor\n",
        "    regressor = RandomForestRegressor()\n",
        "\n",
        "    # Train the regressor\n",
        "    regressor.fit(X_train, y_train)\n",
        "\n",
        "    # Predict on test set\n",
        "    y_pred = regressor.predict(X_test)\n",
        "\n",
        "    # Evaluate mean squared error\n",
        "    mse = mean_squared_error(y_test, y_pred)\n",
        "    print(\"Mean Squared Error:\", mse)\n",
        "\n",
        "    # Evaluate mean absolute error\n",
        "    mae = mean_absolute_error(y_test, y_pred)\n",
        "    print(\"Mean Absolute Error:\", mae)\n",
        "\n",
        "    # Evaluate R-squared Score\n",
        "    r2 = r2_score(y_test, y_pred)\n",
        "    print(\"R-Squared Score:\", r2)\n",
        "\n",
        "else:\n",
        "    print(\"No data available for training for athlete\", athlete_id)\n"
      ],
      "metadata": {
        "colab": {
          "base_uri": "https://localhost:8080/"
        },
        "id": "lALriGBoVUQO",
        "outputId": "bb33281e-2556-447b-c1a2-5a87abb280b7"
      },
      "execution_count": null,
      "outputs": [
        {
          "output_type": "stream",
          "name": "stdout",
          "text": [
            "Mean Squared Error: 0.07271151744186104\n",
            "Mean Absolute Error: 0.1936860465116289\n",
            "R-Squared Score: 0.9607627490294188\n"
          ]
        }
      ]
    },
    {
      "cell_type": "code",
      "source": [
        "# Load dataset\n",
        "data = pd.read_csv('/content/modified_dataset.csv')\n",
        "\n",
        "# Convert dates column to DateTime with correct format\n",
        "data['Date'] = pd.to_datetime(data['Date'], format='%d-%m-%Y')\n",
        "\n",
        "# Define the athlete ID\n",
        "athlete_id = 21  # Replace 123 with the specific athlete ID you want to analyze\n",
        "\n",
        "\n",
        "\n",
        "\n",
        "'''\n",
        "# Trials 01\n",
        "\n",
        "# Filter dataset for the specific athlete ID\n",
        "athlete_data = data[data['Athlete'] == athlete_id]\n",
        "\n",
        "# Split athlete's data into training and testing based on year\n",
        "train_data = athlete_data[athlete_data['Date'].dt.year == 2021]\n",
        "test_data = athlete_data[athlete_data['Date'].dt.year == 2022]\n",
        "'''\n",
        "\n",
        "\n",
        "# Trials 02\n",
        "# Filter dataset for the specific athlete ID for testing\n",
        "test_data = data[(data['Athlete'] == athlete_id) & (data['Date'].dt.year == 2023)]\n",
        "\n",
        "# Filter dataset for all athletes for training for the year 2021 [edited: and year 2022]\n",
        "#train_data = data[data['Date'].dt.year == 2021]\n",
        "train_data = data[(data['Date'].dt.year == 2021) | (data['Date'].dt.year == 2022)]\n",
        "\n",
        "\n",
        "\n",
        "# Check if there are samples available for training\n",
        "if not train_data.empty:\n",
        "    # Prepare features and labels for training set\n",
        "    X_train = train_data.drop(['Cognitive', 'Date', 'Athlete'], axis=1)\n",
        "    y_train = train_data['Cognitive']\n",
        "\n",
        "    # Prepare features and labels for testing set\n",
        "    X_test = test_data.drop(['Cognitive', 'Date', 'Athlete'], axis=1)\n",
        "    y_test = test_data['Cognitive']\n",
        "\n",
        "    # Initialize Random Forest regressor\n",
        "    regressor = RandomForestRegressor()\n",
        "\n",
        "    # Train the regressor\n",
        "    regressor.fit(X_train, y_train)\n",
        "\n",
        "    # Predict on test set\n",
        "    y_pred = regressor.predict(X_test)\n",
        "\n",
        "    # Evaluate mean squared error\n",
        "    mse = mean_squared_error(y_test, y_pred)\n",
        "    print(\"Mean Squared Error:\", mse)\n",
        "\n",
        "    # Evaluate mean absolute error\n",
        "    mae = mean_absolute_error(y_test, y_pred)\n",
        "    print(\"Mean Absolute Error:\", mae)\n",
        "\n",
        "    # Evaluate R-squared Score\n",
        "    r2 = r2_score(y_test, y_pred)\n",
        "    print(\"R-Squared Score:\", r2)\n",
        "\n",
        "else:\n",
        "    print(\"No data available for training for athlete\", athlete_id)\n"
      ],
      "metadata": {
        "colab": {
          "base_uri": "https://localhost:8080/"
        },
        "id": "8HY2XGjLWVhq",
        "outputId": "157209b2-f00a-46c5-869b-6af5634b6035"
      },
      "execution_count": null,
      "outputs": [
        {
          "output_type": "stream",
          "name": "stdout",
          "text": [
            "Mean Squared Error: 0.29777422606787424\n",
            "Mean Absolute Error: 0.4181280730897135\n",
            "R-Squared Score: 0.9995293255425411\n"
          ]
        }
      ]
    }
  ]
}